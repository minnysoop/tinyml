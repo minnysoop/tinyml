{
 "cells": [
  {
   "cell_type": "code",
   "execution_count": null,
   "metadata": {},
   "outputs": [],
   "source": [
    "import cv2\n",
    "import numpy as np\n",
    "from scipy import datasets\n",
    "i = datasets.ascent()"
   ]
  },
  {
   "cell_type": "code",
   "execution_count": null,
   "metadata": {},
   "outputs": [],
   "source": [
    "import matplotlib.pyplot as plt\n",
    "plt.grid(False)\n",
    "plt.gray()\n",
    "plt.axis('off')\n",
    "plt.imshow(i)\n",
    "plt.show()"
   ]
  },
  {
   "cell_type": "code",
   "execution_count": null,
   "metadata": {},
   "outputs": [],
   "source": [
    "i_transformed = np.copy(i)\n",
    "size_x = i_transformed.shape[0]\n",
    "size_y = i_transformed.shape[1]"
   ]
  },
  {
   "cell_type": "code",
   "execution_count": null,
   "metadata": {},
   "outputs": [],
   "source": [
    "# Here is a sample filter\n",
    "filter = [ [-1, -2, -1], [0, 0, 0], [1, 2, 1]]\n",
    "weight = 1"
   ]
  },
  {
   "cell_type": "code",
   "execution_count": null,
   "metadata": {},
   "outputs": [],
   "source": [
    "for x in range(1,size_x-1):\n",
    "  for y in range(1,size_y-1):\n",
    "      convolution = 0.0\n",
    "      convolution = convolution + (i[x - 1, y-1] * filter[0][0])\n",
    "      convolution = convolution + (i[x, y-1] * filter[1][0])\n",
    "      convolution = convolution + (i[x + 1, y-1] * filter[2][0])\n",
    "      convolution = convolution + (i[x-1, y] * filter[0][1])\n",
    "      convolution = convolution + (i[x, y] * filter[1][1])\n",
    "      convolution = convolution + (i[x+1, y] * filter[2][1])\n",
    "      convolution = convolution + (i[x-1, y+1] * filter[0][2])\n",
    "      convolution = convolution + (i[x, y+1] * filter[1][2])\n",
    "      convolution = convolution + (i[x+1, y+1] * filter[2][2])\n",
    "      convolution = convolution * weight\n",
    "      if(convolution<0):\n",
    "        convolution=0\n",
    "      if(convolution>255):\n",
    "        convolution=255\n",
    "      i_transformed[x, y] = convolution"
   ]
  },
  {
   "cell_type": "code",
   "execution_count": null,
   "metadata": {},
   "outputs": [],
   "source": [
    "plt.gray()\n",
    "plt.grid(False)\n",
    "plt.imshow(i_transformed)\n",
    "plt.show()  "
   ]
  },
  {
   "cell_type": "code",
   "execution_count": null,
   "metadata": {},
   "outputs": [],
   "source": [
    "# MAX Pooling\n",
    "new_x = int(size_x/4)\n",
    "new_y = int(size_y/4)\n",
    "newImage = np.zeros((new_x, new_y))\n",
    "for x in range(0, size_x, 4):\n",
    "  for y in range(0, size_y, 4):\n",
    "    pixels = []\n",
    "    pixels.append(i_transformed[x, y])\n",
    "    pixels.append(i_transformed[x+1, y])\n",
    "    pixels.append(i_transformed[x+2, y])\n",
    "    pixels.append(i_transformed[x+3, y])\n",
    "    pixels.append(i_transformed[x, y+1])\n",
    "    pixels.append(i_transformed[x+1, y+1])\n",
    "    pixels.append(i_transformed[x+2, y+1])\n",
    "    pixels.append(i_transformed[x+3, y+1])\n",
    "    pixels.append(i_transformed[x, y+2])\n",
    "    pixels.append(i_transformed[x+1, y+2])\n",
    "    pixels.append(i_transformed[x+2, y+2])\n",
    "    pixels.append(i_transformed[x+3, y+2])\n",
    "    pixels.append(i_transformed[x, y+3])\n",
    "    pixels.append(i_transformed[x+1, y+3])\n",
    "    pixels.append(i_transformed[x+2, y+3])\n",
    "    pixels.append(i_transformed[x+3, y+3])\n",
    "    pixels.sort(reverse=True)\n",
    "    newImage[int(x/4),int(y/4)] = pixels[0]\n",
    "\n",
    "# Plot the image. Note the size of the axes -- now 128 pixels instead of 512\n",
    "plt.gray()\n",
    "plt.grid(False)\n",
    "plt.imshow(newImage)\n",
    "#plt.axis('off')\n",
    "plt.show()      \n",
    "    "
   ]
  }
 ],
 "metadata": {
  "kernelspec": {
   "display_name": "venv",
   "language": "python",
   "name": "python3"
  },
  "language_info": {
   "codemirror_mode": {
    "name": "ipython",
    "version": 3
   },
   "file_extension": ".py",
   "mimetype": "text/x-python",
   "name": "python",
   "nbconvert_exporter": "python",
   "pygments_lexer": "ipython3",
   "version": "3.12.5"
  }
 },
 "nbformat": 4,
 "nbformat_minor": 2
}
