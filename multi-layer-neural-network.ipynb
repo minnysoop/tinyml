{
 "cells": [
  {
   "cell_type": "code",
   "execution_count": null,
   "metadata": {},
   "outputs": [],
   "source": [
    "import numpy as np\n",
    "import tensorflow as tf\n",
    "from tensorflow import keras"
   ]
  },
  {
   "cell_type": "code",
   "execution_count": null,
   "metadata": {},
   "outputs": [],
   "source": [
    "my_layer_1 = keras.layers.Dense(units=2, input_shape=[1])\n",
    "my_layer_2 = keras.layers.Dense(units=1)\n",
    "model = tf.keras.Sequential([my_layer_1, my_layer_2])\n",
    "model.compile(optimizer='sgd', loss='mean_squared_error')\n",
    "\n",
    "xs = np.array([-1.0,  0.0, 1.0, 2.0, 3.0, 4.0], dtype=float)\n",
    "ys = np.array([-3.0, -1.0, 1.0, 3.0, 5.0, 7.0], dtype=float)\n",
    "\n",
    "model.fit(xs, ys, epochs=500)"
   ]
  },
  {
   "cell_type": "code",
   "execution_count": null,
   "metadata": {},
   "outputs": [],
   "source": [
    "print(model.predict(np.array([10.0])))"
   ]
  },
  {
   "cell_type": "code",
   "execution_count": null,
   "metadata": {},
   "outputs": [],
   "source": [
    "print(my_layer_1.get_weights())\n",
    "print(my_layer_2.get_weights())"
   ]
  },
  {
   "cell_type": "code",
   "execution_count": null,
   "metadata": {},
   "outputs": [],
   "source": [
    "value_to_predict = 10.0\n",
    "\n",
    "layer1_w1 = (my_layer_1.get_weights()[0][0][0])\n",
    "layer1_w2 = (my_layer_1.get_weights()[0][0][1])\n",
    "layer1_b1 = (my_layer_1.get_weights()[1][0])\n",
    "layer1_b2 = (my_layer_1.get_weights()[1][1])\n",
    "\n",
    "\n",
    "layer2_w1 = (my_layer_2.get_weights()[0][0])\n",
    "layer2_w2 = (my_layer_2.get_weights()[0][1])\n",
    "layer2_b = (my_layer_2.get_weights()[1][0])\n",
    "\n",
    "neuron1_output = (layer1_w1 * value_to_predict) + layer1_b1\n",
    "neuron2_output = (layer1_w2 * value_to_predict) + layer1_b2\n",
    "\n",
    "neuron3_output = (layer2_w1 * neuron1_output) + (layer2_w2 * neuron2_output) + layer2_b\n",
    "\n",
    "print(neuron3_output)"
   ]
  }
 ],
 "metadata": {
  "kernelspec": {
   "display_name": "venv",
   "language": "python",
   "name": "python3"
  },
  "language_info": {
   "codemirror_mode": {
    "name": "ipython",
    "version": 3
   },
   "file_extension": ".py",
   "mimetype": "text/x-python",
   "name": "python",
   "nbconvert_exporter": "python",
   "pygments_lexer": "ipython3",
   "version": "3.12.5"
  }
 },
 "nbformat": 4,
 "nbformat_minor": 2
}
